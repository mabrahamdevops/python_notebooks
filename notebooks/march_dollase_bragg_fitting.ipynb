{
 "cells": [
  {
   "cell_type": "code",
   "execution_count": 15,
   "id": "c38b09f1",
   "metadata": {},
   "outputs": [],
   "source": [
    "import os\n",
    "import json\n",
    "import numpy as np"
   ]
  },
  {
   "cell_type": "code",
   "execution_count": 6,
   "id": "2c739e33",
   "metadata": {},
   "outputs": [],
   "source": [
    "# json file created by GUI from bragg_edge_fitting.ipynb notebook\n",
    "json_file = \"tests/data/bragg_edge/march_dollase_data.json\"\n",
    "assert os.path.exists(json_file)"
   ]
  },
  {
   "cell_type": "code",
   "execution_count": 7,
   "id": "9bb8ba59",
   "metadata": {},
   "outputs": [],
   "source": [
    "with open(json_file) as f:\n",
    "  data = json.load(f)"
   ]
  },
  {
   "cell_type": "code",
   "execution_count": 18,
   "id": "8623ea8e",
   "metadata": {},
   "outputs": [],
   "source": [
    "x_axis = data['xaxis']\n",
    "y_axis = data['yaxis']\n",
    "parameters = data['parameters']\n",
    "\n",
    "x_axis = np.array(x_axis)\n",
    "y_axis = np.array(y_axis)"
   ]
  },
  {
   "cell_type": "code",
   "execution_count": 19,
   "id": "f7f338d9",
   "metadata": {},
   "outputs": [
    {
     "data": {
      "text/plain": [
       "{'d_spacing': 0.012167178201965258,\n",
       " 'sigma': 3.5,\n",
       " 'alpha': 4.5,\n",
       " 'a1': nan,\n",
       " 'a2': nan}"
      ]
     },
     "execution_count": 19,
     "metadata": {},
     "output_type": "execute_result"
    }
   ],
   "source": [
    "parameters\n"
   ]
  },
  {
   "cell_type": "code",
   "execution_count": null,
   "id": "294729bc",
   "metadata": {},
   "outputs": [],
   "source": []
  }
 ],
 "metadata": {
  "kernelspec": {
   "display_name": "Python 3",
   "language": "python",
   "name": "python3"
  },
  "language_info": {
   "codemirror_mode": {
    "name": "ipython",
    "version": 3
   },
   "file_extension": ".py",
   "mimetype": "text/x-python",
   "name": "python",
   "nbconvert_exporter": "python",
   "pygments_lexer": "ipython3",
   "version": "3.7.10"
  }
 },
 "nbformat": 4,
 "nbformat_minor": 5
}

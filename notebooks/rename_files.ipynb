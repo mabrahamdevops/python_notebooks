{
 "cells": [
  {
   "cell_type": "markdown",
   "metadata": {
    "run_control": {
     "frozen": false,
     "read_only": false
    }
   },
   "source": [
    "[![Notebook Tutorial](__code/__all/notebook_tutorial.png)](https://neutronimaging.pages.ornl.gov/tutorial/notebooks/rename_files/)"
   ]
  },
  {
   "cell_type": "markdown",
   "metadata": {
    "run_control": {
     "frozen": false,
     "read_only": false
    }
   },
   "source": [
    "<img src='__docs/__all/notebook_rules.png' />"
   ]
  },
  {
   "cell_type": "markdown",
   "metadata": {
    "run_control": {
     "frozen": false,
     "read_only": false
    }
   },
   "source": [
    "# Select your IPTS "
   ]
  },
  {
   "cell_type": "code",
   "execution_count": null,
   "metadata": {
    "run_control": {
     "frozen": false,
     "read_only": false
    }
   },
   "outputs": [],
   "source": [
    "from __code.rename_files.rename_files import NamingSchemaDefinition, FormatFileNameIndex\n",
    "from __code import system\n",
    "system.System.select_working_dir()\n",
    "from __code.__all import custom_style\n",
    "custom_style.style()"
   ]
  },
  {
   "cell_type": "markdown",
   "metadata": {
    "run_control": {
     "frozen": false,
     "read_only": false
    }
   },
   "source": [
    "# Select input folder and define new naming schema"
   ]
  },
  {
   "cell_type": "code",
   "execution_count": 2,
   "metadata": {
    "run_control": {
     "frozen": false,
     "read_only": false
    }
   },
   "outputs": [
    {
     "data": {
      "application/vnd.jupyter.widget-view+json": {
       "model_id": "",
       "version_major": 2,
       "version_minor": 0
      },
      "text/plain": [
       "VBox(children=(Label(value='Select Input Folder', layout=Layout(width='250px')), VBox(children=(HBox(children=…"
      ]
     },
     "metadata": {},
     "output_type": "display_data"
    },
    {
     "data": {
      "application/vnd.jupyter.widget-view+json": {
       "model_id": "69537e5358734c76b22569b214f617ee",
       "version_major": 2,
       "version_minor": 0
      },
      "text/plain": [
       "VBox(children=(Accordion(children=(VBox(children=(HBox(children=(Label(value='Pre. Index Separator', layout=La…"
      ]
     },
     "metadata": {},
     "output_type": "display_data"
    },
    {
     "data": {
      "text/html": [
       "\n",
       "\t\t\t\t\t\t  <style>\n",
       "\t\t\t\t\t\t  .result_label {\n",
       "\t\t\t\t\t\t\t font-style: bold;\n",
       "\t\t\t\t\t\t\t color: black;\n",
       "\t\t\t\t\t\t\t font-size: 14px;\n",
       "\t\t\t\t\t\t  }\n",
       "\t\t\t\t\t\t  </style>\n",
       "\t\t\t\t\t\t  "
      ],
      "text/plain": [
       "<IPython.core.display.HTML object>"
      ]
     },
     "metadata": {},
     "output_type": "display_data"
    },
    {
     "data": {
      "text/html": [
       "\n",
       "\t\t\t\t\t\t  <style>\n",
       "\t\t\t\t\t\t  .result_label {\n",
       "\t\t\t\t\t\t\t font-style: bold;\n",
       "\t\t\t\t\t\t\t color: black;\n",
       "\t\t\t\t\t\t\t font-size: 14px;\n",
       "\t\t\t\t\t\t  }\n",
       "\t\t\t\t\t\t  </style>\n",
       "\t\t\t\t\t\t  "
      ],
      "text/plain": [
       "<IPython.core.display.HTML object>"
      ]
     },
     "metadata": {},
     "output_type": "display_data"
    },
    {
     "data": {
      "text/html": [
       "\n",
       "\t\t\t\t\t\t  <style>\n",
       "\t\t\t\t\t\t  .result_label {\n",
       "\t\t\t\t\t\t\t font-style: bold;\n",
       "\t\t\t\t\t\t\t color: black;\n",
       "\t\t\t\t\t\t\t font-size: 14px;\n",
       "\t\t\t\t\t\t  }\n",
       "\t\t\t\t\t\t  </style>\n",
       "\t\t\t\t\t\t  "
      ],
      "text/plain": [
       "<IPython.core.display.HTML object>"
      ]
     },
     "metadata": {},
     "output_type": "display_data"
    },
    {
     "data": {
      "text/html": [
       "\n",
       "\t\t\t\t\t\t  <style>\n",
       "\t\t\t\t\t\t  .result_label {\n",
       "\t\t\t\t\t\t\t font-style: bold;\n",
       "\t\t\t\t\t\t\t color: black;\n",
       "\t\t\t\t\t\t\t font-size: 14px;\n",
       "\t\t\t\t\t\t  }\n",
       "\t\t\t\t\t\t  </style>\n",
       "\t\t\t\t\t\t  "
      ],
      "text/plain": [
       "<IPython.core.display.HTML object>"
      ]
     },
     "metadata": {},
     "output_type": "display_data"
    },
    {
     "data": {
      "text/html": [
       "\n",
       "\t\t\t\t\t\t  <style>\n",
       "\t\t\t\t\t\t  .result_label {\n",
       "\t\t\t\t\t\t\t font-style: bold;\n",
       "\t\t\t\t\t\t\t color: black;\n",
       "\t\t\t\t\t\t\t font-size: 14px;\n",
       "\t\t\t\t\t\t  }\n",
       "\t\t\t\t\t\t  </style>\n",
       "\t\t\t\t\t\t  "
      ],
      "text/plain": [
       "<IPython.core.display.HTML object>"
      ]
     },
     "metadata": {},
     "output_type": "display_data"
    }
   ],
   "source": [
    "o_format = FormatFileNameIndex(working_dir=system.System.get_working_dir())\n",
    "o_format.select_input_folder()"
   ]
  },
  {
   "cell_type": "markdown",
   "metadata": {},
   "source": [
    "# Checking new names"
   ]
  },
  {
   "cell_type": "code",
   "execution_count": 4,
   "metadata": {},
   "outputs": [
    {
     "data": {
      "application/vnd.jupyter.widget-view+json": {
       "model_id": "5ff007bea11a4fd0a296b9c0276a711f",
       "version_major": 2,
       "version_minor": 0
      },
      "text/plain": [
       "Select(layout=Layout(height='400px', width='100%'), options=('/Volumes/G-DRIVE/IPTS/IPTS-26282-Adam/processed_…"
      ]
     },
     "metadata": {},
     "output_type": "display_data"
    }
   ],
   "source": [
    "o_format.o_schema.check_new_names()"
   ]
  },
  {
   "cell_type": "markdown",
   "metadata": {
    "run_control": {
     "frozen": false,
     "read_only": false
    }
   },
   "source": [
    "# Select output folder"
   ]
  },
  {
   "cell_type": "code",
   "execution_count": 3,
   "metadata": {
    "run_control": {
     "frozen": false,
     "read_only": false
    }
   },
   "outputs": [
    {
     "data": {
      "application/vnd.jupyter.widget-view+json": {
       "model_id": "c7284532cabc47acae99527f58fa0646",
       "version_major": 2,
       "version_minor": 0
      },
      "text/plain": [
       "HBox(children=(Button(button_style='success', description='Jump to  Shared Folder', layout=Layout(border='1px …"
      ]
     },
     "metadata": {},
     "output_type": "display_data"
    },
    {
     "data": {
      "application/vnd.jupyter.widget-view+json": {
       "model_id": "90b45f9c3d004bf99b5981b262279d99",
       "version_major": 2,
       "version_minor": 0
      },
      "text/plain": [
       "VBox(children=(Label(value='Select Output Folder', layout=Layout(width='250px')), VBox(children=(HBox(children…"
      ]
     },
     "metadata": {},
     "output_type": "display_data"
    }
   ],
   "source": [
    "o_format.o_schema.select_export_folder()"
   ]
  },
  {
   "cell_type": "code",
   "execution_count": null,
   "metadata": {},
   "outputs": [],
   "source": []
  }
 ],
 "metadata": {
  "anaconda-cloud": {},
  "kernelspec": {
   "display_name": "Python 3",
   "language": "python",
   "name": "python3"
  },
  "language_info": {
   "codemirror_mode": {
    "name": "ipython",
    "version": 3
   },
   "file_extension": ".py",
   "mimetype": "text/x-python",
   "name": "python",
   "nbconvert_exporter": "python",
   "pygments_lexer": "ipython3",
   "version": "3.7.10"
  },
  "toc": {
   "colors": {
    "hover_highlight": "#DAA520",
    "running_highlight": "#FF0000",
    "selected_highlight": "#FFD700"
   },
   "moveMenuLeft": true,
   "nav_menu": {
    "height": "210px",
    "width": "252px"
   },
   "navigate_menu": true,
   "number_sections": true,
   "sideBar": true,
   "threshold": 4,
   "toc_cell": false,
   "toc_section_display": "block",
   "toc_window_display": false
  }
 },
 "nbformat": 4,
 "nbformat_minor": 1
}

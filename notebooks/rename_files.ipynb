{
 "cells": [
  {
   "cell_type": "markdown",
   "metadata": {
    "run_control": {
     "frozen": false,
     "read_only": false
    }
   },
   "source": [
    "[![Notebook Tutorial](__code/__all/notebook_tutorial.png)](https://neutronimaging.pages.ornl.gov/tutorial/notebooks/rename_files/)"
   ]
  },
  {
   "cell_type": "markdown",
   "metadata": {
    "run_control": {
     "frozen": false,
     "read_only": false
    }
   },
   "source": [
    "<img src='__docs/__all/notebook_rules.png' />"
   ]
  },
  {
   "cell_type": "markdown",
   "metadata": {
    "run_control": {
     "frozen": false,
     "read_only": false
    }
   },
   "source": [
    "# Select Your IPTS "
   ]
  },
  {
   "cell_type": "code",
   "execution_count": 1,
   "metadata": {
    "run_control": {
     "frozen": false,
     "read_only": false
    }
   },
   "outputs": [
    {
     "data": {
      "text/html": [
       "\n",
       "<style type=\"text/css\">\n",
       ".jupyter-widgets select option {font-family: \"Lucida Console\", Monaco, monospace;}\n",
       ".jupyter-widgets select {width: 98%;}\n",
       "div.output_subarea {padding: 0px;}\n",
       "div.output_subarea > div {margin: 0.4em;}\n",
       "</style>\n"
      ],
      "text/plain": [
       "<IPython.core.display.HTML object>"
      ]
     },
     "metadata": {},
     "output_type": "display_data"
    },
    {
     "data": {
      "text/html": [
       "\n",
       "<style type=\"text/css\">\n",
       ".jupyter-widgets select option {font-family: \"Lucida Console\", Monaco, monospace;}\n",
       "div.output_subarea {padding: 0px;}\n",
       "div.output_subarea > div {margin: 0.4em;}\n",
       "</style>\n"
      ],
      "text/plain": [
       "<IPython.core.display.HTML object>"
      ]
     },
     "metadata": {},
     "output_type": "display_data"
    },
    {
     "data": {
      "text/html": [
       "\n",
       "                       <style>\n",
       "                       .result_label {\n",
       "                          font-style: bold;\n",
       "                          color: red;\n",
       "                          font-size: 18px;\n",
       "                       }\n",
       "                       </style>\n",
       "                       "
      ],
      "text/plain": [
       "<IPython.core.display.HTML object>"
      ]
     },
     "metadata": {},
     "output_type": "display_data"
    },
    {
     "name": "stdout",
     "output_type": "stream",
     "text": [
      "** Using Debugging Mode! **\n"
     ]
    },
    {
     "data": {
      "application/vnd.jupyter.widget-view+json": {
       "model_id": "ffe9d2d491804210848dd11dd6d4fe2e",
       "version_major": 2,
       "version_minor": 0
      },
      "text/plain": [
       "VBox(children=(HBox(children=(Label(value='Select Instrument', layout=Layout(width='20%')), Select(layout=Layo…"
      ]
     },
     "metadata": {},
     "output_type": "display_data"
    },
    {
     "data": {
      "text/html": [
       "<style>\n",
       "\n",
       "/* The following CSS has been adapted from\n",
       "   http://nbviewer.ipython.org/github/ketch/teaching-numerics-with-notebooks/blob/master/Styling_notebooks.ipynb\n",
       "   by Aron Ahmadia and David Ketcheson and has been reused under CC BY 4.0\n",
       "   */\n",
       "\n",
       "/* main background */\n",
       "#site { \n",
       "    background: #888;\n",
       "    color: #red; \n",
       "}\n",
       "\n",
       "div.container {\n",
       "    width: 100% ! important;\n",
       "}\n",
       "\n",
       "div.cell { /* set cell width to about 80 chars */\n",
       "    width: 95%;\n",
       "}\n",
       "\n",
       "div #notebook { /* centre the content */\n",
       "/*    background: #fff; /* white background for content */\n",
       "    background: blue;\n",
       "    width: 100%;\n",
       "    margin: auto;\n",
       "    padding-left: 1em;\n",
       "    padding-right: 1em;\n",
       "    background-image: url(\"tile_background.jpg\");\n",
       "}\n",
       "\n",
       "#notebook li { /* More space between bullet points */\n",
       "    margin-top:0.4em;\n",
       "}\n",
       "\n",
       "/* change background color of running cells */\n",
       "div.cell.code_cell.running {\n",
       "/*    background-color: rgba(164,188,194,.75); */\n",
       "    background-color: green;\n",
       "    border-width: 8px\n",
       "    border-style: solid\n",
       "    border-color: #111;\n",
       "}\n",
       "\n",
       "/* Put a solid color box around each cell and its output, visually linking them together */\n",
       "div.cell.code_cell {\n",
       "    background-color: rgba(164,188,194,.25); /* Continuum L Gray with alpha 0.25 */\n",
       "    border-radius: 10px; /* rounded borders */\n",
       "    padding: 1em;\n",
       "    margin-top: 1em;\n",
       "}\n",
       "\n",
       "div.text_cell_render{\n",
       "\tfont-family: Georgia, Times, 'Times New Roman', serif;\n",
       "    line-height: 110%;\n",
       "    font-size: 105%;\n",
       "    width: 95%;\n",
       "    margin-left: auto;\n",
       "    margin-right: auto;\n",
       "}\n",
       "\n",
       "\n",
       "/* Formatting for header cells */\n",
       ".text_cell_render h1 {\n",
       "\tfont-family: Arial, 'Helvetica Neue', Helvetica, sans-serif;\n",
       "    font-weight: 400;\n",
       "    font-size: 30pt;\n",
       "    line-height: 100%;\n",
       "    color: rgb(37,55,70); /* Continuum Blue*/\n",
       "    margin-bottom: 0.1em;\n",
       "    margin-top: 0.1em;\n",
       "    display: block;\n",
       "}\n",
       ".text_cell_render h2 {\n",
       "\tfont-family: Arial, 'Helvetica Neue', Helvetica, sans-serif;\n",
       "    font-weight: 700;\n",
       "    font-size: 22pt;\n",
       "    line-height: 100%;\n",
       "    color: rgb(37,55,70);\n",
       "    margin-bottom: 0.1em;\n",
       "    margin-top: 0.1em;\n",
       "    display: block;\n",
       "}\n",
       "\n",
       ".text_cell_render h3 {\n",
       "\tfont-family: Arial, 'Helvetica Neue', Helvetica, sans-serif;\n",
       "    margin-top:12px;\n",
       "    margin-bottom: 3px;\n",
       "    font-style: italic;\n",
       "    color: rgb(37, 55, 70);\n",
       "}\n",
       "\n",
       ".text_cell_render h4 {\n",
       "\tfont-family: Arial, 'Helvetica Neue', Helvetica, sans-serif;\n",
       "}\n",
       "\n",
       ".text_cell_render h5 {\n",
       "\tfont-family: Arial, 'Helvetica Neue', Helvetica, sans-serif;\n",
       "    font-weight: 300;\n",
       "    font-size: 14pt;\n",
       "    font-style: italic;\n",
       "    margin-bottom: .1em;\n",
       "    margin-top: 0.1em;\n",
       "    display: block;\n",
       "}\n",
       "\n",
       ".text_cell_render h6 {\n",
       "\tfont-family: Arial, 'Helvetica Neue', Helvetica, sans-serif;\n",
       "    font-weight: 300;\n",
       "    font-size: 10pt;\n",
       "    margin-bottom: 1px;\n",
       "    margin-top: 1px;\n",
       "}\n",
       "\n",
       ".CodeMirror{\n",
       "        font-family: \"PT Mono\", fixed;\n",
       "        font-size: 100%;\n",
       "}\n",
       "\n",
       "#notebook_panel { /* main background */\n",
       "    background-image: url(\"tile_background.jpg\");\n",
       "}\n",
       "\n",
       "\n",
       "\n",
       "\n",
       "</style>\n"
      ],
      "text/plain": [
       "<IPython.core.display.HTML object>"
      ]
     },
     "execution_count": 1,
     "metadata": {},
     "output_type": "execute_result"
    },
    {
     "name": "stdout",
     "output_type": "stream",
     "text": [
      "** Using Debugging Mode! **\n"
     ]
    }
   ],
   "source": [
    "from __code.rename_files import NamingSchemaDefinition, FormatFileNameIndex\n",
    "from __code import system\n",
    "system.System.select_working_dir()\n",
    "from __code.__all import custom_style\n",
    "custom_style.style()"
   ]
  },
  {
   "cell_type": "markdown",
   "metadata": {
    "run_control": {
     "frozen": false,
     "read_only": false
    }
   },
   "source": [
    "# Select Input Folder and define new naming schema"
   ]
  },
  {
   "cell_type": "code",
   "execution_count": 2,
   "metadata": {
    "run_control": {
     "frozen": false,
     "read_only": false
    }
   },
   "outputs": [
    {
     "data": {
      "application/vnd.jupyter.widget-view+json": {
       "model_id": "",
       "version_major": 2,
       "version_minor": 0
      },
      "text/plain": [
       "VBox(children=(Label(value='Select Input Folder', layout=Layout(width='250px')), VBox(children=(HBox(children=…"
      ]
     },
     "metadata": {},
     "output_type": "display_data"
    },
    {
     "data": {
      "application/vnd.jupyter.widget-view+json": {
       "model_id": "07bc08564e764fa0aee17a37555a05c1",
       "version_major": 2,
       "version_minor": 0
      },
      "text/plain": [
       "VBox(children=(Accordion(children=(VBox(children=(HBox(children=(Label(value='Pre. Index Separator', layout=La…"
      ]
     },
     "metadata": {},
     "output_type": "display_data"
    },
    {
     "data": {
      "text/html": [
       "\n",
       "\t\t\t\t\t\t  <style>\n",
       "\t\t\t\t\t\t  .result_label {\n",
       "\t\t\t\t\t\t\t font-style: bold;\n",
       "\t\t\t\t\t\t\t color: black;\n",
       "\t\t\t\t\t\t\t font-size: 14px;\n",
       "\t\t\t\t\t\t  }\n",
       "\t\t\t\t\t\t  </style>\n",
       "\t\t\t\t\t\t  "
      ],
      "text/plain": [
       "<IPython.core.display.HTML object>"
      ]
     },
     "metadata": {},
     "output_type": "display_data"
    },
    {
     "data": {
      "text/html": [
       "\n",
       "\t\t\t\t\t\t  <style>\n",
       "\t\t\t\t\t\t  .result_label {\n",
       "\t\t\t\t\t\t\t font-style: bold;\n",
       "\t\t\t\t\t\t\t color: black;\n",
       "\t\t\t\t\t\t\t font-size: 14px;\n",
       "\t\t\t\t\t\t  }\n",
       "\t\t\t\t\t\t  </style>\n",
       "\t\t\t\t\t\t  "
      ],
      "text/plain": [
       "<IPython.core.display.HTML object>"
      ]
     },
     "metadata": {},
     "output_type": "display_data"
    },
    {
     "data": {
      "text/html": [
       "\n",
       "\t\t\t\t\t\t  <style>\n",
       "\t\t\t\t\t\t  .result_label {\n",
       "\t\t\t\t\t\t\t font-style: bold;\n",
       "\t\t\t\t\t\t\t color: black;\n",
       "\t\t\t\t\t\t\t font-size: 14px;\n",
       "\t\t\t\t\t\t  }\n",
       "\t\t\t\t\t\t  </style>\n",
       "\t\t\t\t\t\t  "
      ],
      "text/plain": [
       "<IPython.core.display.HTML object>"
      ]
     },
     "metadata": {},
     "output_type": "display_data"
    },
    {
     "data": {
      "text/html": [
       "\n",
       "\t\t\t\t\t\t  <style>\n",
       "\t\t\t\t\t\t  .result_label {\n",
       "\t\t\t\t\t\t\t font-style: bold;\n",
       "\t\t\t\t\t\t\t color: black;\n",
       "\t\t\t\t\t\t\t font-size: 14px;\n",
       "\t\t\t\t\t\t  }\n",
       "\t\t\t\t\t\t  </style>\n",
       "\t\t\t\t\t\t  "
      ],
      "text/plain": [
       "<IPython.core.display.HTML object>"
      ]
     },
     "metadata": {},
     "output_type": "display_data"
    },
    {
     "data": {
      "text/html": [
       "\n",
       "\t\t\t\t\t\t  <style>\n",
       "\t\t\t\t\t\t  .result_label {\n",
       "\t\t\t\t\t\t\t font-style: bold;\n",
       "\t\t\t\t\t\t\t color: black;\n",
       "\t\t\t\t\t\t\t font-size: 14px;\n",
       "\t\t\t\t\t\t  }\n",
       "\t\t\t\t\t\t  </style>\n",
       "\t\t\t\t\t\t  "
      ],
      "text/plain": [
       "<IPython.core.display.HTML object>"
      ]
     },
     "metadata": {},
     "output_type": "display_data"
    },
    {
     "data": {
      "text/html": [
       "\n",
       "\t\t\t\t\t\t  <style>\n",
       "\t\t\t\t\t\t  .result_label {\n",
       "\t\t\t\t\t\t\t font-style: bold;\n",
       "\t\t\t\t\t\t\t color: black;\n",
       "\t\t\t\t\t\t\t font-size: 14px;\n",
       "\t\t\t\t\t\t  }\n",
       "\t\t\t\t\t\t  </style>\n",
       "\t\t\t\t\t\t  "
      ],
      "text/plain": [
       "<IPython.core.display.HTML object>"
      ]
     },
     "metadata": {},
     "output_type": "display_data"
    },
    {
     "data": {
      "text/html": [
       "\n",
       "\t\t\t\t\t\t  <style>\n",
       "\t\t\t\t\t\t  .result_label {\n",
       "\t\t\t\t\t\t\t font-style: bold;\n",
       "\t\t\t\t\t\t\t color: black;\n",
       "\t\t\t\t\t\t\t font-size: 14px;\n",
       "\t\t\t\t\t\t  }\n",
       "\t\t\t\t\t\t  </style>\n",
       "\t\t\t\t\t\t  "
      ],
      "text/plain": [
       "<IPython.core.display.HTML object>"
      ]
     },
     "metadata": {},
     "output_type": "display_data"
    },
    {
     "data": {
      "text/html": [
       "\n",
       "\t\t\t\t\t\t  <style>\n",
       "\t\t\t\t\t\t  .result_label {\n",
       "\t\t\t\t\t\t\t font-style: bold;\n",
       "\t\t\t\t\t\t\t color: black;\n",
       "\t\t\t\t\t\t\t font-size: 14px;\n",
       "\t\t\t\t\t\t  }\n",
       "\t\t\t\t\t\t  </style>\n",
       "\t\t\t\t\t\t  "
      ],
      "text/plain": [
       "<IPython.core.display.HTML object>"
      ]
     },
     "metadata": {},
     "output_type": "display_data"
    },
    {
     "data": {
      "text/html": [
       "\n",
       "\t\t\t\t\t\t  <style>\n",
       "\t\t\t\t\t\t  .result_label {\n",
       "\t\t\t\t\t\t\t font-style: bold;\n",
       "\t\t\t\t\t\t\t color: black;\n",
       "\t\t\t\t\t\t\t font-size: 14px;\n",
       "\t\t\t\t\t\t  }\n",
       "\t\t\t\t\t\t  </style>\n",
       "\t\t\t\t\t\t  "
      ],
      "text/plain": [
       "<IPython.core.display.HTML object>"
      ]
     },
     "metadata": {},
     "output_type": "display_data"
    },
    {
     "data": {
      "text/html": [
       "\n",
       "\t\t\t\t\t\t  <style>\n",
       "\t\t\t\t\t\t  .result_label {\n",
       "\t\t\t\t\t\t\t font-style: bold;\n",
       "\t\t\t\t\t\t\t color: black;\n",
       "\t\t\t\t\t\t\t font-size: 14px;\n",
       "\t\t\t\t\t\t  }\n",
       "\t\t\t\t\t\t  </style>\n",
       "\t\t\t\t\t\t  "
      ],
      "text/plain": [
       "<IPython.core.display.HTML object>"
      ]
     },
     "metadata": {},
     "output_type": "display_data"
    },
    {
     "data": {
      "text/html": [
       "\n",
       "\t\t\t\t\t\t  <style>\n",
       "\t\t\t\t\t\t  .result_label {\n",
       "\t\t\t\t\t\t\t font-style: bold;\n",
       "\t\t\t\t\t\t\t color: black;\n",
       "\t\t\t\t\t\t\t font-size: 14px;\n",
       "\t\t\t\t\t\t  }\n",
       "\t\t\t\t\t\t  </style>\n",
       "\t\t\t\t\t\t  "
      ],
      "text/plain": [
       "<IPython.core.display.HTML object>"
      ]
     },
     "metadata": {},
     "output_type": "display_data"
    },
    {
     "data": {
      "text/html": [
       "\n",
       "\t\t\t\t\t\t  <style>\n",
       "\t\t\t\t\t\t  .result_label {\n",
       "\t\t\t\t\t\t\t font-style: bold;\n",
       "\t\t\t\t\t\t\t color: black;\n",
       "\t\t\t\t\t\t\t font-size: 14px;\n",
       "\t\t\t\t\t\t  }\n",
       "\t\t\t\t\t\t  </style>\n",
       "\t\t\t\t\t\t  "
      ],
      "text/plain": [
       "<IPython.core.display.HTML object>"
      ]
     },
     "metadata": {},
     "output_type": "display_data"
    },
    {
     "data": {
      "text/html": [
       "\n",
       "\t\t\t\t\t\t  <style>\n",
       "\t\t\t\t\t\t  .result_label {\n",
       "\t\t\t\t\t\t\t font-style: bold;\n",
       "\t\t\t\t\t\t\t color: black;\n",
       "\t\t\t\t\t\t\t font-size: 14px;\n",
       "\t\t\t\t\t\t  }\n",
       "\t\t\t\t\t\t  </style>\n",
       "\t\t\t\t\t\t  "
      ],
      "text/plain": [
       "<IPython.core.display.HTML object>"
      ]
     },
     "metadata": {},
     "output_type": "display_data"
    },
    {
     "data": {
      "text/html": [
       "\n",
       "\t\t\t\t\t\t  <style>\n",
       "\t\t\t\t\t\t  .result_label {\n",
       "\t\t\t\t\t\t\t font-style: bold;\n",
       "\t\t\t\t\t\t\t color: black;\n",
       "\t\t\t\t\t\t\t font-size: 14px;\n",
       "\t\t\t\t\t\t  }\n",
       "\t\t\t\t\t\t  </style>\n",
       "\t\t\t\t\t\t  "
      ],
      "text/plain": [
       "<IPython.core.display.HTML object>"
      ]
     },
     "metadata": {},
     "output_type": "display_data"
    },
    {
     "data": {
      "text/html": [
       "\n",
       "\t\t\t\t\t\t  <style>\n",
       "\t\t\t\t\t\t  .result_label {\n",
       "\t\t\t\t\t\t\t font-style: bold;\n",
       "\t\t\t\t\t\t\t color: black;\n",
       "\t\t\t\t\t\t\t font-size: 14px;\n",
       "\t\t\t\t\t\t  }\n",
       "\t\t\t\t\t\t  </style>\n",
       "\t\t\t\t\t\t  "
      ],
      "text/plain": [
       "<IPython.core.display.HTML object>"
      ]
     },
     "metadata": {},
     "output_type": "display_data"
    },
    {
     "data": {
      "text/html": [
       "\n",
       "\t\t\t\t\t\t  <style>\n",
       "\t\t\t\t\t\t  .result_label {\n",
       "\t\t\t\t\t\t\t font-style: bold;\n",
       "\t\t\t\t\t\t\t color: black;\n",
       "\t\t\t\t\t\t\t font-size: 14px;\n",
       "\t\t\t\t\t\t  }\n",
       "\t\t\t\t\t\t  </style>\n",
       "\t\t\t\t\t\t  "
      ],
      "text/plain": [
       "<IPython.core.display.HTML object>"
      ]
     },
     "metadata": {},
     "output_type": "display_data"
    },
    {
     "data": {
      "text/html": [
       "\n",
       "\t\t\t\t\t\t  <style>\n",
       "\t\t\t\t\t\t  .result_label {\n",
       "\t\t\t\t\t\t\t font-style: bold;\n",
       "\t\t\t\t\t\t\t color: black;\n",
       "\t\t\t\t\t\t\t font-size: 14px;\n",
       "\t\t\t\t\t\t  }\n",
       "\t\t\t\t\t\t  </style>\n",
       "\t\t\t\t\t\t  "
      ],
      "text/plain": [
       "<IPython.core.display.HTML object>"
      ]
     },
     "metadata": {},
     "output_type": "display_data"
    },
    {
     "data": {
      "text/html": [
       "\n",
       "\t\t\t\t\t\t  <style>\n",
       "\t\t\t\t\t\t  .result_label {\n",
       "\t\t\t\t\t\t\t font-style: bold;\n",
       "\t\t\t\t\t\t\t color: black;\n",
       "\t\t\t\t\t\t\t font-size: 14px;\n",
       "\t\t\t\t\t\t  }\n",
       "\t\t\t\t\t\t  </style>\n",
       "\t\t\t\t\t\t  "
      ],
      "text/plain": [
       "<IPython.core.display.HTML object>"
      ]
     },
     "metadata": {},
     "output_type": "display_data"
    },
    {
     "data": {
      "text/html": [
       "\n",
       "\t\t\t\t\t\t  <style>\n",
       "\t\t\t\t\t\t  .result_label {\n",
       "\t\t\t\t\t\t\t font-style: bold;\n",
       "\t\t\t\t\t\t\t color: black;\n",
       "\t\t\t\t\t\t\t font-size: 14px;\n",
       "\t\t\t\t\t\t  }\n",
       "\t\t\t\t\t\t  </style>\n",
       "\t\t\t\t\t\t  "
      ],
      "text/plain": [
       "<IPython.core.display.HTML object>"
      ]
     },
     "metadata": {},
     "output_type": "display_data"
    },
    {
     "data": {
      "text/html": [
       "\n",
       "\t\t\t\t\t\t  <style>\n",
       "\t\t\t\t\t\t  .result_label {\n",
       "\t\t\t\t\t\t\t font-style: bold;\n",
       "\t\t\t\t\t\t\t color: black;\n",
       "\t\t\t\t\t\t\t font-size: 14px;\n",
       "\t\t\t\t\t\t  }\n",
       "\t\t\t\t\t\t  </style>\n",
       "\t\t\t\t\t\t  "
      ],
      "text/plain": [
       "<IPython.core.display.HTML object>"
      ]
     },
     "metadata": {},
     "output_type": "display_data"
    },
    {
     "data": {
      "text/html": [
       "\n",
       "\t\t\t\t\t\t  <style>\n",
       "\t\t\t\t\t\t  .result_label {\n",
       "\t\t\t\t\t\t\t font-style: bold;\n",
       "\t\t\t\t\t\t\t color: black;\n",
       "\t\t\t\t\t\t\t font-size: 14px;\n",
       "\t\t\t\t\t\t  }\n",
       "\t\t\t\t\t\t  </style>\n",
       "\t\t\t\t\t\t  "
      ],
      "text/plain": [
       "<IPython.core.display.HTML object>"
      ]
     },
     "metadata": {},
     "output_type": "display_data"
    },
    {
     "data": {
      "text/html": [
       "\n",
       "\t\t\t\t\t\t  <style>\n",
       "\t\t\t\t\t\t  .result_label {\n",
       "\t\t\t\t\t\t\t font-style: bold;\n",
       "\t\t\t\t\t\t\t color: black;\n",
       "\t\t\t\t\t\t\t font-size: 14px;\n",
       "\t\t\t\t\t\t  }\n",
       "\t\t\t\t\t\t  </style>\n",
       "\t\t\t\t\t\t  "
      ],
      "text/plain": [
       "<IPython.core.display.HTML object>"
      ]
     },
     "metadata": {},
     "output_type": "display_data"
    },
    {
     "data": {
      "text/html": [
       "\n",
       "\t\t\t\t\t\t  <style>\n",
       "\t\t\t\t\t\t  .result_label {\n",
       "\t\t\t\t\t\t\t font-style: bold;\n",
       "\t\t\t\t\t\t\t color: black;\n",
       "\t\t\t\t\t\t\t font-size: 14px;\n",
       "\t\t\t\t\t\t  }\n",
       "\t\t\t\t\t\t  </style>\n",
       "\t\t\t\t\t\t  "
      ],
      "text/plain": [
       "<IPython.core.display.HTML object>"
      ]
     },
     "metadata": {},
     "output_type": "display_data"
    },
    {
     "data": {
      "text/html": [
       "\n",
       "\t\t\t\t\t\t  <style>\n",
       "\t\t\t\t\t\t  .result_label {\n",
       "\t\t\t\t\t\t\t font-style: bold;\n",
       "\t\t\t\t\t\t\t color: black;\n",
       "\t\t\t\t\t\t\t font-size: 14px;\n",
       "\t\t\t\t\t\t  }\n",
       "\t\t\t\t\t\t  </style>\n",
       "\t\t\t\t\t\t  "
      ],
      "text/plain": [
       "<IPython.core.display.HTML object>"
      ]
     },
     "metadata": {},
     "output_type": "display_data"
    },
    {
     "data": {
      "text/html": [
       "\n",
       "\t\t\t\t\t\t  <style>\n",
       "\t\t\t\t\t\t  .result_label {\n",
       "\t\t\t\t\t\t\t font-style: bold;\n",
       "\t\t\t\t\t\t\t color: black;\n",
       "\t\t\t\t\t\t\t font-size: 14px;\n",
       "\t\t\t\t\t\t  }\n",
       "\t\t\t\t\t\t  </style>\n",
       "\t\t\t\t\t\t  "
      ],
      "text/plain": [
       "<IPython.core.display.HTML object>"
      ]
     },
     "metadata": {},
     "output_type": "display_data"
    },
    {
     "data": {
      "text/html": [
       "\n",
       "\t\t\t\t\t\t  <style>\n",
       "\t\t\t\t\t\t  .result_label {\n",
       "\t\t\t\t\t\t\t font-style: bold;\n",
       "\t\t\t\t\t\t\t color: black;\n",
       "\t\t\t\t\t\t\t font-size: 14px;\n",
       "\t\t\t\t\t\t  }\n",
       "\t\t\t\t\t\t  </style>\n",
       "\t\t\t\t\t\t  "
      ],
      "text/plain": [
       "<IPython.core.display.HTML object>"
      ]
     },
     "metadata": {},
     "output_type": "display_data"
    },
    {
     "data": {
      "text/html": [
       "\n",
       "\t\t\t\t\t\t  <style>\n",
       "\t\t\t\t\t\t  .result_label {\n",
       "\t\t\t\t\t\t\t font-style: bold;\n",
       "\t\t\t\t\t\t\t color: black;\n",
       "\t\t\t\t\t\t\t font-size: 14px;\n",
       "\t\t\t\t\t\t  }\n",
       "\t\t\t\t\t\t  </style>\n",
       "\t\t\t\t\t\t  "
      ],
      "text/plain": [
       "<IPython.core.display.HTML object>"
      ]
     },
     "metadata": {},
     "output_type": "display_data"
    },
    {
     "data": {
      "text/html": [
       "\n",
       "\t\t\t\t\t\t  <style>\n",
       "\t\t\t\t\t\t  .result_label {\n",
       "\t\t\t\t\t\t\t font-style: bold;\n",
       "\t\t\t\t\t\t\t color: black;\n",
       "\t\t\t\t\t\t\t font-size: 14px;\n",
       "\t\t\t\t\t\t  }\n",
       "\t\t\t\t\t\t  </style>\n",
       "\t\t\t\t\t\t  "
      ],
      "text/plain": [
       "<IPython.core.display.HTML object>"
      ]
     },
     "metadata": {},
     "output_type": "display_data"
    },
    {
     "data": {
      "text/html": [
       "\n",
       "\t\t\t\t\t\t  <style>\n",
       "\t\t\t\t\t\t  .result_label {\n",
       "\t\t\t\t\t\t\t font-style: bold;\n",
       "\t\t\t\t\t\t\t color: black;\n",
       "\t\t\t\t\t\t\t font-size: 14px;\n",
       "\t\t\t\t\t\t  }\n",
       "\t\t\t\t\t\t  </style>\n",
       "\t\t\t\t\t\t  "
      ],
      "text/plain": [
       "<IPython.core.display.HTML object>"
      ]
     },
     "metadata": {},
     "output_type": "display_data"
    },
    {
     "data": {
      "text/html": [
       "\n",
       "\t\t\t\t\t\t  <style>\n",
       "\t\t\t\t\t\t  .result_label {\n",
       "\t\t\t\t\t\t\t font-style: bold;\n",
       "\t\t\t\t\t\t\t color: black;\n",
       "\t\t\t\t\t\t\t font-size: 14px;\n",
       "\t\t\t\t\t\t  }\n",
       "\t\t\t\t\t\t  </style>\n",
       "\t\t\t\t\t\t  "
      ],
      "text/plain": [
       "<IPython.core.display.HTML object>"
      ]
     },
     "metadata": {},
     "output_type": "display_data"
    }
   ],
   "source": [
    "o_format = FormatFileNameIndex(working_dir=system.System.get_working_dir())\n",
    "o_format.select_input_folder()"
   ]
  },
  {
   "cell_type": "markdown",
   "metadata": {
    "run_control": {
     "frozen": false,
     "read_only": false
    }
   },
   "source": [
    "# Select Output Folder"
   ]
  },
  {
   "cell_type": "code",
   "execution_count": 3,
   "metadata": {
    "run_control": {
     "frozen": false,
     "read_only": false
    }
   },
   "outputs": [
    {
     "data": {
      "application/vnd.jupyter.widget-view+json": {
       "model_id": "",
       "version_major": 2,
       "version_minor": 0
      },
      "text/plain": [
       "HBox(children=(Button(button_style='success', description='Jump to  Shared Folder', layout=Layout(border='1px …"
      ]
     },
     "metadata": {},
     "output_type": "display_data"
    },
    {
     "data": {
      "application/vnd.jupyter.widget-view+json": {
       "model_id": "",
       "version_major": 2,
       "version_minor": 0
      },
      "text/plain": [
       "VBox(children=(Label(value='Select Output Folder', layout=Layout(width='250px')), VBox(children=(HBox(children…"
      ]
     },
     "metadata": {},
     "output_type": "display_data"
    },
    {
     "data": {
      "application/vnd.jupyter.widget-view+json": {
       "model_id": "d1e4c79eae554a13b4ea3f802cf4a994",
       "version_major": 2,
       "version_minor": 0
      },
      "text/plain": [
       "IntProgress(value=0, max=30)"
      ]
     },
     "metadata": {},
     "output_type": "display_data"
    },
    {
     "data": {
      "text/html": [
       "<span style=\"font-size: 15px; color:blue\">Following files have been created in folder: /Users/j35/IPTS/IPTS-26894/tmp/.</span>"
      ],
      "text/plain": [
       "<IPython.core.display.HTML object>"
      ]
     },
     "metadata": {},
     "output_type": "display_data"
    },
    {
     "data": {
      "application/vnd.jupyter.widget-view+json": {
       "model_id": "d177fa45d93f4b64b939e91753aabf3b",
       "version_major": 2,
       "version_minor": 0
      },
      "text/plain": [
       "HBox(children=(Label(value='Renmaing results: ', layout=Layout(width='20%')), Dropdown(layout=Layout(width='80…"
      ]
     },
     "metadata": {},
     "output_type": "display_data"
    }
   ],
   "source": [
    "o_format.o_schema.select_export_folder()"
   ]
  }
 ],
 "metadata": {
  "anaconda-cloud": {},
  "kernelspec": {
   "display_name": "Python 3",
   "language": "python",
   "name": "python3"
  },
  "language_info": {
   "codemirror_mode": {
    "name": "ipython",
    "version": 3
   },
   "file_extension": ".py",
   "mimetype": "text/x-python",
   "name": "python",
   "nbconvert_exporter": "python",
   "pygments_lexer": "ipython3",
   "version": "3.6.10"
  },
  "toc": {
   "colors": {
    "hover_highlight": "#DAA520",
    "running_highlight": "#FF0000",
    "selected_highlight": "#FFD700"
   },
   "moveMenuLeft": true,
   "nav_menu": {
    "height": "210px",
    "width": "252px"
   },
   "navigate_menu": true,
   "number_sections": true,
   "sideBar": true,
   "threshold": 4,
   "toc_cell": false,
   "toc_section_display": "block",
   "toc_window_display": false
  }
 },
 "nbformat": 4,
 "nbformat_minor": 1
}
